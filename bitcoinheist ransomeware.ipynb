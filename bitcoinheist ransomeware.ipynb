{
 "cells": [
  {
   "cell_type": "code",
   "execution_count": 1,
   "id": "bf10809d",
   "metadata": {},
   "outputs": [],
   "source": [
    "#load libraries\n",
    "from sklearn.preprocessing import StandardScaler\n",
    "import matplotlib.pyplot as plt\n",
    "import numpy as np\n",
    "import os\n",
    "import pandas as pd\n",
    "from tensorflow import keras\n",
    "from keras.models import load_model\n",
    "import seaborn as sns\n",
    "\n",
    "pd.set_option('display.max_rows', 5000)\n",
    "pd.set_option('display.max_columns', 5000)\n",
    "pd.set_option('display.width', 1000)"
   ]
  },
  {
   "cell_type": "code",
   "execution_count": 2,
   "id": "905e39ea",
   "metadata": {},
   "outputs": [],
   "source": [
    "def NormalizeData(data):\n",
    "    return (data - np.min(data)) / (np.max(data) - np.min(data))"
   ]
  },
  {
   "cell_type": "code",
   "execution_count": 3,
   "id": "fa3db14a",
   "metadata": {},
   "outputs": [],
   "source": [
    "data = pd.read_csv(r'BitcoinHeistData.csv')"
   ]
  },
  {
   "cell_type": "code",
   "execution_count": 4,
   "id": "72c19337",
   "metadata": {},
   "outputs": [
    {
     "data": {
      "text/html": [
       "<div>\n",
       "<style scoped>\n",
       "    .dataframe tbody tr th:only-of-type {\n",
       "        vertical-align: middle;\n",
       "    }\n",
       "\n",
       "    .dataframe tbody tr th {\n",
       "        vertical-align: top;\n",
       "    }\n",
       "\n",
       "    .dataframe thead th {\n",
       "        text-align: right;\n",
       "    }\n",
       "</style>\n",
       "<table border=\"1\" class=\"dataframe\">\n",
       "  <thead>\n",
       "    <tr style=\"text-align: right;\">\n",
       "      <th></th>\n",
       "      <th>address</th>\n",
       "      <th>year</th>\n",
       "      <th>day</th>\n",
       "      <th>length</th>\n",
       "      <th>weight</th>\n",
       "      <th>count</th>\n",
       "      <th>looped</th>\n",
       "      <th>neighbors</th>\n",
       "      <th>income</th>\n",
       "      <th>label</th>\n",
       "    </tr>\n",
       "  </thead>\n",
       "  <tbody>\n",
       "    <tr>\n",
       "      <th>0</th>\n",
       "      <td>111K8kZAEnJg245r2cM6y9zgJGHZtJPy6</td>\n",
       "      <td>2017</td>\n",
       "      <td>11</td>\n",
       "      <td>18</td>\n",
       "      <td>0.008333</td>\n",
       "      <td>1</td>\n",
       "      <td>0</td>\n",
       "      <td>2</td>\n",
       "      <td>100050000.0</td>\n",
       "      <td>princetonCerber</td>\n",
       "    </tr>\n",
       "    <tr>\n",
       "      <th>1</th>\n",
       "      <td>1123pJv8jzeFQaCV4w644pzQJzVWay2zcA</td>\n",
       "      <td>2016</td>\n",
       "      <td>132</td>\n",
       "      <td>44</td>\n",
       "      <td>0.000244</td>\n",
       "      <td>1</td>\n",
       "      <td>0</td>\n",
       "      <td>1</td>\n",
       "      <td>100000000.0</td>\n",
       "      <td>princetonLocky</td>\n",
       "    </tr>\n",
       "    <tr>\n",
       "      <th>2</th>\n",
       "      <td>112536im7hy6wtKbpH1qYDWtTyMRAcA2p7</td>\n",
       "      <td>2016</td>\n",
       "      <td>246</td>\n",
       "      <td>0</td>\n",
       "      <td>1.000000</td>\n",
       "      <td>1</td>\n",
       "      <td>0</td>\n",
       "      <td>2</td>\n",
       "      <td>200000000.0</td>\n",
       "      <td>princetonCerber</td>\n",
       "    </tr>\n",
       "    <tr>\n",
       "      <th>3</th>\n",
       "      <td>1126eDRw2wqSkWosjTCre8cjjQW8sSeWH7</td>\n",
       "      <td>2016</td>\n",
       "      <td>322</td>\n",
       "      <td>72</td>\n",
       "      <td>0.003906</td>\n",
       "      <td>1</td>\n",
       "      <td>0</td>\n",
       "      <td>2</td>\n",
       "      <td>71200000.0</td>\n",
       "      <td>princetonCerber</td>\n",
       "    </tr>\n",
       "    <tr>\n",
       "      <th>4</th>\n",
       "      <td>1129TSjKtx65E35GiUo4AYVeyo48twbrGX</td>\n",
       "      <td>2016</td>\n",
       "      <td>238</td>\n",
       "      <td>144</td>\n",
       "      <td>0.072848</td>\n",
       "      <td>456</td>\n",
       "      <td>0</td>\n",
       "      <td>1</td>\n",
       "      <td>200000000.0</td>\n",
       "      <td>princetonLocky</td>\n",
       "    </tr>\n",
       "  </tbody>\n",
       "</table>\n",
       "</div>"
      ],
      "text/plain": [
       "                              address  year  day  length    weight  count  looped  neighbors       income            label\n",
       "0   111K8kZAEnJg245r2cM6y9zgJGHZtJPy6  2017   11      18  0.008333      1       0          2  100050000.0  princetonCerber\n",
       "1  1123pJv8jzeFQaCV4w644pzQJzVWay2zcA  2016  132      44  0.000244      1       0          1  100000000.0   princetonLocky\n",
       "2  112536im7hy6wtKbpH1qYDWtTyMRAcA2p7  2016  246       0  1.000000      1       0          2  200000000.0  princetonCerber\n",
       "3  1126eDRw2wqSkWosjTCre8cjjQW8sSeWH7  2016  322      72  0.003906      1       0          2   71200000.0  princetonCerber\n",
       "4  1129TSjKtx65E35GiUo4AYVeyo48twbrGX  2016  238     144  0.072848    456       0          1  200000000.0   princetonLocky"
      ]
     },
     "execution_count": 4,
     "metadata": {},
     "output_type": "execute_result"
    }
   ],
   "source": [
    "data.head()"
   ]
  },
  {
   "cell_type": "code",
   "execution_count": 5,
   "id": "276d13c8",
   "metadata": {},
   "outputs": [
    {
     "data": {
      "text/plain": [
       "(2916697, 10)"
      ]
     },
     "execution_count": 5,
     "metadata": {},
     "output_type": "execute_result"
    }
   ],
   "source": [
    "data.shape"
   ]
  },
  {
   "cell_type": "code",
   "execution_count": 6,
   "id": "8f1e4159",
   "metadata": {},
   "outputs": [
    {
     "data": {
      "text/plain": [
       "int64      6\n",
       "object     2\n",
       "float64    2\n",
       "dtype: int64"
      ]
     },
     "execution_count": 6,
     "metadata": {},
     "output_type": "execute_result"
    }
   ],
   "source": [
    "data.dtypes.value_counts()"
   ]
  },
  {
   "cell_type": "code",
   "execution_count": 7,
   "id": "21e12b63",
   "metadata": {},
   "outputs": [
    {
     "data": {
      "text/plain": [
       "2016    380631\n",
       "2014    375319\n",
       "2013    372494\n",
       "2015    368701\n",
       "2017    368486\n",
       "2012    365714\n",
       "2011    355349\n",
       "2018    330003\n",
       "Name: year, dtype: int64"
      ]
     },
     "execution_count": 7,
     "metadata": {},
     "output_type": "execute_result"
    }
   ],
   "source": [
    "data['year'].value_counts()"
   ]
  },
  {
   "cell_type": "code",
   "execution_count": 8,
   "id": "2a1dfdcd",
   "metadata": {},
   "outputs": [
    {
     "data": {
      "text/plain": [
       "8"
      ]
     },
     "execution_count": 8,
     "metadata": {},
     "output_type": "execute_result"
    }
   ],
   "source": [
    "data['year'].nunique()"
   ]
  },
  {
   "cell_type": "code",
   "execution_count": 9,
   "id": "7a3e2592",
   "metadata": {},
   "outputs": [
    {
     "data": {
      "text/plain": [
       "white                          98.580140\n",
       "paduaCryptoWall                 0.424796\n",
       "montrealCryptoLocker            0.319368\n",
       "princetonCerber                 0.316214\n",
       "princetonLocky                  0.227140\n",
       "montrealCryptXXX                0.082936\n",
       "montrealNoobCrypt               0.016560\n",
       "montrealDMALockerv3             0.012137\n",
       "montrealDMALocker               0.008606\n",
       "montrealSamSam                  0.002126\n",
       "montrealCryptoTorLocker2015     0.001886\n",
       "montrealGlobeImposter           0.001886\n",
       "montrealGlobev3                 0.001166\n",
       "montrealGlobe                   0.001097\n",
       "montrealWannaCry                0.000960\n",
       "montrealRazy                    0.000446\n",
       "montrealAPT                     0.000377\n",
       "paduaKeRanger                   0.000343\n",
       "montrealFlyper                  0.000309\n",
       "montrealXTPLocker               0.000274\n",
       "montrealVenusLocker             0.000240\n",
       "montrealXLockerv5.0             0.000240\n",
       "montrealCryptConsole            0.000240\n",
       "montrealEDA2                    0.000206\n",
       "montrealJigSaw                  0.000137\n",
       "paduaJigsaw                     0.000069\n",
       "montrealSam                     0.000034\n",
       "montrealComradeCircle           0.000034\n",
       "montrealXLocker                 0.000034\n",
       "Name: label, dtype: float64"
      ]
     },
     "execution_count": 9,
     "metadata": {},
     "output_type": "execute_result"
    }
   ],
   "source": [
    "(data['label'].value_counts()/data.shape[0])*100"
   ]
  },
  {
   "cell_type": "code",
   "execution_count": 10,
   "id": "967c08f8",
   "metadata": {},
   "outputs": [
    {
     "data": {
      "text/plain": [
       "year             8\n",
       "day            365\n",
       "length          73\n",
       "count        11572\n",
       "looped       10168\n",
       "neighbors      814\n",
       "dtype: int64"
      ]
     },
     "execution_count": 10,
     "metadata": {},
     "output_type": "execute_result"
    }
   ],
   "source": [
    "data.select_dtypes(include=['int64']).nunique()"
   ]
  },
  {
   "cell_type": "code",
   "execution_count": 11,
   "id": "c16a45b0",
   "metadata": {},
   "outputs": [
    {
     "data": {
      "text/plain": [
       "784927"
      ]
     },
     "execution_count": 11,
     "metadata": {},
     "output_type": "execute_result"
    }
   ],
   "source": [
    "data['weight'].nunique()"
   ]
  },
  {
   "cell_type": "code",
   "execution_count": 12,
   "id": "cd22e4e1",
   "metadata": {},
   "outputs": [
    {
     "name": "stdout",
     "output_type": "stream",
     "text": [
      "<class 'pandas.core.frame.DataFrame'>\n",
      "RangeIndex: 2916697 entries, 0 to 2916696\n",
      "Data columns (total 10 columns):\n",
      " #   Column     Dtype  \n",
      "---  ------     -----  \n",
      " 0   address    object \n",
      " 1   year       int64  \n",
      " 2   day        int64  \n",
      " 3   length     int64  \n",
      " 4   weight     float64\n",
      " 5   count      int64  \n",
      " 6   looped     int64  \n",
      " 7   neighbors  int64  \n",
      " 8   income     float64\n",
      " 9   label      object \n",
      "dtypes: float64(2), int64(6), object(2)\n",
      "memory usage: 222.5+ MB\n"
     ]
    }
   ],
   "source": [
    "data.info()"
   ]
  },
  {
   "cell_type": "code",
   "execution_count": 13,
   "id": "afd76f70",
   "metadata": {},
   "outputs": [
    {
     "data": {
      "text/plain": [
       "False"
      ]
     },
     "execution_count": 13,
     "metadata": {},
     "output_type": "execute_result"
    }
   ],
   "source": [
    "data.isnull().values.any()"
   ]
  },
  {
   "cell_type": "code",
   "execution_count": 14,
   "id": "477bd495",
   "metadata": {},
   "outputs": [
    {
     "data": {
      "text/plain": [
       "((2916697, 9), (2916697,))"
      ]
     },
     "execution_count": 14,
     "metadata": {},
     "output_type": "execute_result"
    }
   ],
   "source": [
    "x = data.iloc[:,:-1]\n",
    "y = data['label']\n",
    "\n",
    "x.shape, y.shape"
   ]
  },
  {
   "cell_type": "code",
   "execution_count": 15,
   "id": "3b0c37d7",
   "metadata": {},
   "outputs": [],
   "source": [
    "#Encoding the target variable to 0 and 1\n",
    "unique_label = list(set(y))\n",
    "d = {}\n",
    "\n",
    "#If the label is white, it means there is no attack so the label can be assigned to zero.\n",
    "for i in unique_label:\n",
    "    if i != 'white':\n",
    "        d[i] = 1\n",
    "    else:\n",
    "        d[i] = 0\n",
    "\n",
    "#Replacing the target column with newly encoded label column\n",
    "y.replace(d, inplace=True)"
   ]
  },
  {
   "cell_type": "code",
   "execution_count": 16,
   "id": "118bd19a",
   "metadata": {},
   "outputs": [
    {
     "data": {
      "text/plain": [
       "2916677    0\n",
       "2916678    0\n",
       "2916679    0\n",
       "2916680    0\n",
       "2916681    0\n",
       "2916682    0\n",
       "2916683    0\n",
       "2916684    0\n",
       "2916685    0\n",
       "2916686    0\n",
       "2916687    0\n",
       "2916688    0\n",
       "2916689    0\n",
       "2916690    0\n",
       "2916691    0\n",
       "2916692    0\n",
       "2916693    0\n",
       "2916694    0\n",
       "2916695    0\n",
       "2916696    0\n",
       "Name: label, dtype: int64"
      ]
     },
     "execution_count": 16,
     "metadata": {},
     "output_type": "execute_result"
    }
   ],
   "source": [
    "y.tail(20)"
   ]
  },
  {
   "cell_type": "code",
   "execution_count": 17,
   "id": "c6dad38a",
   "metadata": {},
   "outputs": [
    {
     "data": {
      "text/plain": [
       "0    2875284\n",
       "1      41413\n",
       "Name: label, dtype: int64"
      ]
     },
     "execution_count": 17,
     "metadata": {},
     "output_type": "execute_result"
    }
   ],
   "source": [
    "y.value_counts()"
   ]
  },
  {
   "cell_type": "code",
   "execution_count": 18,
   "id": "28233c55",
   "metadata": {},
   "outputs": [],
   "source": [
    "x.drop(columns = [\"address\", \"year\", \"day\", \"count\"], inplace=True)\n",
    "x.drop(columns = ['neighbors'],inplace=True)\n",
    "x.drop(columns = ['looped'],inplace=True)"
   ]
  },
  {
   "cell_type": "code",
   "execution_count": 19,
   "id": "0378be0e",
   "metadata": {},
   "outputs": [],
   "source": [
    "x = NormalizeData(x)"
   ]
  },
  {
   "cell_type": "code",
   "execution_count": 20,
   "id": "d831caec",
   "metadata": {},
   "outputs": [
    {
     "data": {
      "text/html": [
       "<div>\n",
       "<style scoped>\n",
       "    .dataframe tbody tr th:only-of-type {\n",
       "        vertical-align: middle;\n",
       "    }\n",
       "\n",
       "    .dataframe tbody tr th {\n",
       "        vertical-align: top;\n",
       "    }\n",
       "\n",
       "    .dataframe thead th {\n",
       "        text-align: right;\n",
       "    }\n",
       "</style>\n",
       "<table border=\"1\" class=\"dataframe\">\n",
       "  <thead>\n",
       "    <tr style=\"text-align: right;\">\n",
       "      <th></th>\n",
       "      <th>length</th>\n",
       "      <th>weight</th>\n",
       "      <th>income</th>\n",
       "    </tr>\n",
       "  </thead>\n",
       "  <tbody>\n",
       "    <tr>\n",
       "      <th>0</th>\n",
       "      <td>0.125000</td>\n",
       "      <td>4.287248e-06</td>\n",
       "      <td>1.401999e-06</td>\n",
       "    </tr>\n",
       "    <tr>\n",
       "      <th>1</th>\n",
       "      <td>0.305556</td>\n",
       "      <td>1.256030e-07</td>\n",
       "      <td>1.400998e-06</td>\n",
       "    </tr>\n",
       "    <tr>\n",
       "      <th>2</th>\n",
       "      <td>0.000000</td>\n",
       "      <td>5.144698e-04</td>\n",
       "      <td>3.402425e-06</td>\n",
       "    </tr>\n",
       "    <tr>\n",
       "      <th>3</th>\n",
       "      <td>0.500000</td>\n",
       "      <td>2.009648e-06</td>\n",
       "      <td>8.245876e-07</td>\n",
       "    </tr>\n",
       "    <tr>\n",
       "      <th>4</th>\n",
       "      <td>1.000000</td>\n",
       "      <td>3.747830e-05</td>\n",
       "      <td>3.402425e-06</td>\n",
       "    </tr>\n",
       "    <tr>\n",
       "      <th>...</th>\n",
       "      <td>...</td>\n",
       "      <td>...</td>\n",
       "      <td>...</td>\n",
       "    </tr>\n",
       "    <tr>\n",
       "      <th>2916692</th>\n",
       "      <td>0.000000</td>\n",
       "      <td>5.716331e-05</td>\n",
       "      <td>2.453367e-05</td>\n",
       "    </tr>\n",
       "    <tr>\n",
       "      <th>2916693</th>\n",
       "      <td>0.000000</td>\n",
       "      <td>5.144698e-04</td>\n",
       "      <td>2.821409e-07</td>\n",
       "    </tr>\n",
       "    <tr>\n",
       "      <th>2916694</th>\n",
       "      <td>0.013889</td>\n",
       "      <td>6.173637e-03</td>\n",
       "      <td>4.739912e-05</td>\n",
       "    </tr>\n",
       "    <tr>\n",
       "      <th>2916695</th>\n",
       "      <td>0.000000</td>\n",
       "      <td>2.572349e-04</td>\n",
       "      <td>2.962965e-06</td>\n",
       "    </tr>\n",
       "    <tr>\n",
       "      <th>2916696</th>\n",
       "      <td>1.000000</td>\n",
       "      <td>3.805657e-05</td>\n",
       "      <td>1.648175e-06</td>\n",
       "    </tr>\n",
       "  </tbody>\n",
       "</table>\n",
       "<p>2916697 rows × 3 columns</p>\n",
       "</div>"
      ],
      "text/plain": [
       "           length        weight        income\n",
       "0        0.125000  4.287248e-06  1.401999e-06\n",
       "1        0.305556  1.256030e-07  1.400998e-06\n",
       "2        0.000000  5.144698e-04  3.402425e-06\n",
       "3        0.500000  2.009648e-06  8.245876e-07\n",
       "4        1.000000  3.747830e-05  3.402425e-06\n",
       "...           ...           ...           ...\n",
       "2916692  0.000000  5.716331e-05  2.453367e-05\n",
       "2916693  0.000000  5.144698e-04  2.821409e-07\n",
       "2916694  0.013889  6.173637e-03  4.739912e-05\n",
       "2916695  0.000000  2.572349e-04  2.962965e-06\n",
       "2916696  1.000000  3.805657e-05  1.648175e-06\n",
       "\n",
       "[2916697 rows x 3 columns]"
      ]
     },
     "execution_count": 20,
     "metadata": {},
     "output_type": "execute_result"
    }
   ],
   "source": [
    "x"
   ]
  },
  {
   "cell_type": "markdown",
   "id": "5793db91",
   "metadata": {},
   "source": [
    "**_____________________________________________________________________________________________________________________________**"
   ]
  },
  {
   "cell_type": "code",
   "execution_count": 21,
   "id": "96b91672",
   "metadata": {},
   "outputs": [],
   "source": [
    "from sklearn.model_selection import train_test_split\n",
    "X_train, X_test, y_train, y_test = train_test_split(x, y, test_size=0.30, random_state=42)"
   ]
  },
  {
   "cell_type": "code",
   "execution_count": 23,
   "id": "1d7905aa",
   "metadata": {},
   "outputs": [
    {
     "name": "stdout",
     "output_type": "stream",
     "text": [
      "x_train: (2041687, 3), x_test: (875010, 3), y_train: (2041687,), y_test: (875010,)\n"
     ]
    }
   ],
   "source": [
    "print(f\"x_train: {X_train.shape}, x_test: {X_test.shape}, y_train: {y_train.shape}, y_test: {y_test.shape}\")"
   ]
  },
  {
   "cell_type": "code",
   "execution_count": 24,
   "id": "89aaba82",
   "metadata": {},
   "outputs": [],
   "source": [
    "model = keras.Sequential(\n",
    "    [\n",
    "        keras.layers.Dense(\n",
    "            256, activation=\"relu\", input_shape=(X_train.shape[-1],)\n",
    "        ),\n",
    "        keras.layers.Dense(256, activation=\"relu\"),\n",
    "        keras.layers.Dropout(0.3),\n",
    "        keras.layers.Dense(256, activation=\"relu\"),\n",
    "        keras.layers.Dropout(0.3),\n",
    "        keras.layers.Dense(1, activation=\"sigmoid\"),\n",
    "    ]\n",
    ")"
   ]
  },
  {
   "cell_type": "code",
   "execution_count": 26,
   "id": "d6746351",
   "metadata": {},
   "outputs": [
    {
     "name": "stdout",
     "output_type": "stream",
     "text": [
      "Collecting keras.metrics\n",
      "  Downloading keras_metrics-1.1.0-py2.py3-none-any.whl (5.6 kB)\n",
      "Requirement already satisfied: Keras>=2.1.5 in d:\\anaconda\\lib\\site-packages (from keras.metrics) (2.8.0)\n",
      "Installing collected packages: keras.metrics\n",
      "Successfully installed keras.metrics\n",
      "Note: you may need to restart the kernel to use updated packages.\n"
     ]
    }
   ],
   "source": [
    "pip install keras.metrics"
   ]
  },
  {
   "cell_type": "code",
   "execution_count": 30,
   "id": "f44ef8be",
   "metadata": {},
   "outputs": [
    {
     "name": "stdout",
     "output_type": "stream",
     "text": [
      "Number of positive samples in training data: 41413 (1.42% of total)\n",
      "Epoch 1/10\n",
      "997/997 [==============================] - 26s 23ms/step - loss: 4.7706e-07 - fn: 8631.0000 - fp: 1349790.0000 - tn: 662663.0000 - tp: 20603.0000 - val_loss: 0.6842 - val_fn: 4463.0000 - val_fp: 512623.0000 - val_tn: 350208.0000 - val_tp: 7716.0000\n",
      "Epoch 2/10\n",
      "997/997 [==============================] - 22s 22ms/step - loss: 4.7684e-07 - fn: 9163.0000 - fp: 1295451.0000 - tn: 717002.0000 - tp: 20071.0000 - val_loss: 0.6774 - val_fn: 5175.0000 - val_fp: 457085.0000 - val_tn: 405746.0000 - val_tp: 7004.0000\n",
      "Epoch 3/10\n",
      "997/997 [==============================] - 23s 23ms/step - loss: 4.7671e-07 - fn: 9721.0000 - fp: 1254083.0000 - tn: 758370.0000 - tp: 19513.0000 - val_loss: 0.6995 - val_fn: 4232.0000 - val_fp: 530989.0000 - val_tn: 331842.0000 - val_tp: 7947.0000\n",
      "Epoch 4/10\n",
      "997/997 [==============================] - 28s 29ms/step - loss: 4.7659e-07 - fn: 9811.0000 - fp: 1244752.0000 - tn: 767701.0000 - tp: 19423.0000 - val_loss: 0.6773 - val_fn: 4917.0000 - val_fp: 474617.0000 - val_tn: 388214.0000 - val_tp: 7262.0000\n",
      "Epoch 5/10\n",
      "997/997 [==============================] - 29s 29ms/step - loss: 4.7656e-07 - fn: 10163.0000 - fp: 1223340.0000 - tn: 789113.0000 - tp: 19071.0000 - val_loss: 0.7011 - val_fn: 4336.0000 - val_fp: 522417.0000 - val_tn: 340414.0000 - val_tp: 7843.0000\n",
      "Epoch 6/10\n",
      "997/997 [==============================] - 30s 30ms/step - loss: 4.7651e-07 - fn: 10109.0000 - fp: 1230394.0000 - tn: 782059.0000 - tp: 19125.0000 - val_loss: 0.6996 - val_fn: 4336.0000 - val_fp: 522418.0000 - val_tn: 340413.0000 - val_tp: 7843.0000\n",
      "Epoch 7/10\n",
      "997/997 [==============================] - 30s 30ms/step - loss: 4.7639e-07 - fn: 10092.0000 - fp: 1218135.0000 - tn: 794318.0000 - tp: 19142.0000 - val_loss: 0.6718 - val_fn: 5511.0000 - val_fp: 435827.0000 - val_tn: 427004.0000 - val_tp: 6668.0000\n",
      "Epoch 8/10\n",
      "997/997 [==============================] - 29s 29ms/step - loss: 4.7640e-07 - fn: 10113.0000 - fp: 1224519.0000 - tn: 787934.0000 - tp: 19121.0000 - val_loss: 0.6756 - val_fn: 4719.0000 - val_fp: 488994.0000 - val_tn: 373837.0000 - val_tp: 7460.0000\n",
      "Epoch 9/10\n",
      "997/997 [==============================] - 28s 28ms/step - loss: 4.7633e-07 - fn: 10304.0000 - fp: 1210948.0000 - tn: 801505.0000 - tp: 18930.0000 - val_loss: 0.7033 - val_fn: 4570.0000 - val_fp: 501672.0000 - val_tn: 361159.0000 - val_tp: 7609.0000\n",
      "Epoch 10/10\n",
      "997/997 [==============================] - 29s 29ms/step - loss: 4.7622e-07 - fn: 10227.0000 - fp: 1213564.0000 - tn: 798889.0000 - tp: 19007.0000 - val_loss: 0.7097 - val_fn: 1647.0000 - val_fp: 716129.0000 - val_tn: 146702.0000 - val_tp: 10532.0000\n"
     ]
    },
    {
     "data": {
      "text/plain": [
       "<keras.callbacks.History at 0x25a0053fc10>"
      ]
     },
     "execution_count": 30,
     "metadata": {},
     "output_type": "execute_result"
    }
   ],
   "source": [
    "counts = np.bincount(y)\n",
    "print(\n",
    "    \"Number of positive samples in training data: {} ({:.2f}% of total)\".format(\n",
    "        counts[1], 100 * float(counts[1]) / len(y)\n",
    "    )\n",
    ")\n",
    "\n",
    "weight_for_0 = 1.0 / counts[0]\n",
    "weight_for_1 = 1.0 / counts[1]\n",
    "\n",
    "# ====================================================\n",
    "metrics = [\n",
    "    keras.metrics.FalseNegatives(name=\"fn\"),\n",
    "    keras.metrics.FalsePositives(name=\"fp\"),\n",
    "    keras.metrics.TrueNegatives(name=\"tn\"),\n",
    "    keras.metrics.TruePositives(name=\"tp\"),\n",
    "#     keras.metrics.precision(name=\"Precision\")\n",
    "]\n",
    "\n",
    "model.compile(\n",
    "    optimizer=keras.optimizers.Adam(1e-2), loss=\"binary_crossentropy\", metrics=metrics\n",
    ")\n",
    "\n",
    "callbacks = [keras.callbacks.ModelCheckpoint(\"fraud_model_at_epoch_10.h5\")]\n",
    "class_weight = {0: weight_for_0, 1: weight_for_1}\n",
    "\n",
    "model.fit(\n",
    "    X_train,\n",
    "    y_train,\n",
    "    batch_size = 2048,\n",
    "    epochs = 10,\n",
    "    verbose = 1,\n",
    "    callbacks = callbacks,\n",
    "    validation_data = (X_test,y_test),\n",
    "    class_weight = class_weight,\n",
    ")"
   ]
  },
  {
   "cell_type": "code",
   "execution_count": 33,
   "id": "b96717aa",
   "metadata": {},
   "outputs": [],
   "source": [
    "model_path = \"fraud_model_at_epoch_10.h5\"\n",
    "\n",
    "model.save(\n",
    "    model_path,\n",
    "    overwrite=True,\n",
    "    include_optimizer=True,\n",
    "    save_format=None,\n",
    "    signatures=None,\n",
    "    options=None,\n",
    "    save_traces=True,\n",
    ")"
   ]
  },
  {
   "cell_type": "code",
   "execution_count": 34,
   "id": "9a0217e3",
   "metadata": {},
   "outputs": [],
   "source": [
    "model = load_model(model_path)"
   ]
  },
  {
   "cell_type": "code",
   "execution_count": 36,
   "id": "071925ca",
   "metadata": {},
   "outputs": [],
   "source": [
    "y_pred = model.predict(X_test)"
   ]
  },
  {
   "cell_type": "code",
   "execution_count": 38,
   "id": "51110a66",
   "metadata": {},
   "outputs": [
    {
     "name": "stdout",
     "output_type": "stream",
     "text": [
      "27345/27345 [==============================] - 100s 4ms/step - loss: 0.7097 - fn: 1647.0000 - fp: 716129.0000 - tn: 146702.0000 - tp: 10532.0000\n"
     ]
    }
   ],
   "source": [
    "model_evaluation = model.evaluate(X_test, y_test)"
   ]
  },
  {
   "cell_type": "code",
   "execution_count": 39,
   "id": "687113d6",
   "metadata": {},
   "outputs": [
    {
     "name": "stdout",
     "output_type": "stream",
     "text": [
      "Loss  :  0.7096705436706543 \n",
      "\n",
      "False Negatives  :  1647.0 \n",
      "\n",
      "False Positives  :  716129.0 \n",
      "\n",
      "True Negatives  :  146702.0 \n",
      "\n",
      "True Positives  :  10532.0 \n",
      "\n"
     ]
    }
   ],
   "source": [
    "evaluation_metrics = [\"Loss\", \"False Negatives\", \"False Positives\", \"True Negatives\", \"True Positives\", \"Precision\", \"Recall\"]\n",
    "\n",
    "for metrics, eval_value in zip(evaluation_metrics, model_evaluation):\n",
    "    print(metrics, \" : \", eval_value, \"\\n\")"
   ]
  },
  {
   "cell_type": "code",
   "execution_count": null,
   "id": "06307265",
   "metadata": {},
   "outputs": [],
   "source": []
  }
 ],
 "metadata": {
  "kernelspec": {
   "display_name": "Python 3",
   "language": "python",
   "name": "python3"
  },
  "language_info": {
   "codemirror_mode": {
    "name": "ipython",
    "version": 3
   },
   "file_extension": ".py",
   "mimetype": "text/x-python",
   "name": "python",
   "nbconvert_exporter": "python",
   "pygments_lexer": "ipython3",
   "version": "3.8.8"
  }
 },
 "nbformat": 4,
 "nbformat_minor": 5
}
